{
  "nbformat": 4,
  "nbformat_minor": 0,
  "metadata": {
    "colab": {
      "provenance": [],
      "authorship_tag": "ABX9TyP79ndZgjUZhBNt8p2H0gPl",
      "include_colab_link": true
    },
    "kernelspec": {
      "name": "python3",
      "display_name": "Python 3"
    },
    "language_info": {
      "name": "python"
    }
  },
  "cells": [
    {
      "cell_type": "markdown",
      "metadata": {
        "id": "view-in-github",
        "colab_type": "text"
      },
      "source": [
        "<a href=\"https://colab.research.google.com/github/shawnteh1711/tensorflow/blob/master/MonteCarlo.ipynb\" target=\"_parent\"><img src=\"https://colab.research.google.com/assets/colab-badge.svg\" alt=\"Open In Colab\"/></a>"
      ]
    },
    {
      "cell_type": "code",
      "execution_count": 5,
      "metadata": {
        "colab": {
          "base_uri": "https://localhost:8080/"
        },
        "id": "qam86RZlPM7X",
        "outputId": "29c8d3e1-5854-4979-8dd4-2d20b84f9fd5"
      },
      "outputs": [
        {
          "output_type": "stream",
          "name": "stdout",
          "text": [
            "A , B =  [4.06151346 4.1147875  1.28683421 ... 1.69453317 3.60674973 4.92114359] [3.92419532 4.57708786 5.34678673 ... 4.64881014 3.26195851 3.15222485]\n"
          ]
        }
      ],
      "source": [
        "import numpy as np\n",
        "sims = 1000000\n",
        "\n",
        "\n",
        "A = np.random.uniform(1, 5, sims)\n",
        "B = np.random.uniform(2, 6, sims)\n",
        "print(\"A , B = \", A , B)\n",
        "duration = A + B"
      ]
    },
    {
      "cell_type": "code",
      "source": [
        "import matplotlib.pyplot as plt\n",
        "plt.figure(figsize = (3, 1.5))\n",
        "plt.hist(duration, density = True)\n",
        "plt.axvline(9, color = \"r\")\n",
        "plt.show()\n",
        "print((duration > 9).sum()/sims)"
      ],
      "metadata": {
        "colab": {
          "base_uri": "https://localhost:8080/",
          "height": 193
        },
        "id": "K4zaZHhVPiaX",
        "outputId": "c4869eff-4f92-4044-bf05-85f1b80f7ec0"
      },
      "execution_count": 4,
      "outputs": [
        {
          "output_type": "display_data",
          "data": {
            "text/plain": [
              "<Figure size 300x150 with 1 Axes>"
            ],
            "image/png": "[encoded data removed]"
          },
          "metadata": {}
        },
        {
          "output_type": "stream",
          "name": "stdout",
          "text": [
            "0.124969\n"
          ]
        }
      ]
    }
  ]
}